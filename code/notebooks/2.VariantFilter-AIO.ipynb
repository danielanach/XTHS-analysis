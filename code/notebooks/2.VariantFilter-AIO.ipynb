{
 "cells": [
  {
   "cell_type": "code",
   "execution_count": 1,
   "metadata": {},
   "outputs": [],
   "source": [
    "import glob\n",
    "import matplotlib.pyplot as plt\n",
    "import matplotlib as mpl\n",
    "import pandas as pd\n",
    "from pathlib import Path\n",
    "from pysam import VariantFile\n",
    "import seaborn as sns\n",
    "from vcf_to_df import vcf_to_df\n",
    "from vcf_to_df import vcf_to_df_simple\n",
    "\n",
    "mpl.rcParams['figure.dpi']= 200\n",
    "\n",
    "%load_ext autoreload\n",
    "%autoreload 2"
   ]
  },
  {
   "cell_type": "markdown",
   "metadata": {},
   "source": [
    "## Filter VCFs for region of interest. In this case intersection of AIO and Exome."
   ]
  },
  {
   "cell_type": "code",
   "execution_count": 2,
   "metadata": {},
   "outputs": [],
   "source": [
    "%%bash\n",
    "\n",
    "bed=~/XTHS-analysis/data/bed/AIO_EXOME_INTERSECT.hg19.bed\n",
    "vcf_dir=~/XTHS-analysis/data/vcf_AIO/FF_vs_FFPE_AIO_Intersect\n",
    "\n",
    "lst='FRFZ FFPE_AIO_100_S FFPE_AIO_3_A1 FFPE_AIO_3_A2 FFPE_AIO_3_A3 FFPE_AIO_3_A4 FFPE_AIO_3_B1 FFPE_AIO_3_B2 FFPE_AIO_3_C1 FFPE_AIO_3_C2 FFPE_AIO_3_S'\n",
    "\n",
    "for i in $lst ; \n",
    "    do bgzip -c -d ${vcf_dir}/${i}-ensemble-annotated.vcf.gz | \\\n",
    "    bedtools intersect -header -a stdin -b $bed | \\\n",
    "    bgzip -c > ${vcf_dir}/${i}-ensemble.region.vcf.gz; \n",
    "done"
   ]
  },
  {
   "cell_type": "markdown",
   "metadata": {},
   "source": [
    "# Filter VCF for benign in clinvar, non-COSMIC, frequent in population variants"
   ]
  },
  {
   "cell_type": "code",
   "execution_count": 3,
   "metadata": {},
   "outputs": [],
   "source": [
    "samples = ['FRFZ',\n",
    "           'FFPE_AIO_3_A1',\n",
    "           'FFPE_AIO_3_A2',\n",
    "           'FFPE_AIO_3_A3',\n",
    "           'FFPE_AIO_3_A4',\n",
    "           'FFPE_AIO_3_B1',\n",
    "           'FFPE_AIO_3_B2',\n",
    "           'FFPE_AIO_3_C1',\n",
    "           'FFPE_AIO_3_C2',\n",
    "           'FFPE_AIO_3_S',\n",
    "           'FFPE_AIO_100_S']"
   ]
  },
  {
   "cell_type": "code",
   "execution_count": 4,
   "metadata": {},
   "outputs": [],
   "source": [
    "not_path_in_clinvar = ['benign',' not_provided','uncertain','drug_response']\n",
    "\n",
    "for sample in samples:\n",
    "    \n",
    "    filename = '/Users/DanielaNachmanson/XTHS-analysis/data/vcf_AIO/FF_vs_FFPE_AIO_Intersect/{}-ensemble.region.vcf.gz'.format(sample)\n",
    "    path = Path(filename)\n",
    "    \n",
    "    out_file = open(str(path.parent) \n",
    "                    + '/' \n",
    "                    + str(path.stem.split('-')[0]) \n",
    "                    + '-ensemble.region.gmfilter.vcf',\n",
    "                    mode='w')\n",
    "    \n",
    "    \n",
    "    vcf_in = VariantFile(path)\n",
    "    out_file.write(vcf_in.header.__str__())\n",
    "    \n",
    "    for rec in vcf_in:\n",
    "        \n",
    "        info_dct = rec.info\n",
    "                   \n",
    "        if 'EPR' in info_dct.keys():\n",
    "\n",
    "            # Variant not found in database\n",
    "            if info_dct['EPR'][0] == 'pass':\n",
    "                out_file.write(rec.__str__())\n",
    "                continue\n",
    "\n",
    "            # Variant found in COSMIC database\n",
    "            elif 'cosmic_ids' in info_dct.keys():\n",
    "                out_file.write(rec.__str__())\n",
    "                continue\n",
    "\n",
    "            # Variant found at max aaf > 0.01 and not deemed pathogenic in clinvar\n",
    "            else:\n",
    "                try:\n",
    "                    if isinstance(info_dct['max_aaf_all'], float):\n",
    "                        max_aaf_all = float(info_dct['max_aaf_all'])\n",
    "                    else:\n",
    "                        max_aaf_all = float(info_dct['max_aaf_all'][0])\n",
    "                except:\n",
    "                    print('SOMETHING WRONG, NO MAX AAF')\n",
    "                    print(info_dct['max_aaf_all'])\n",
    "                    out_file.write(rec.__str__())\n",
    "                    continue\n",
    "\n",
    "                if max_aaf_all > 0.001:\n",
    "                    if 'clinvar_sig' in info_dct.keys():\n",
    "                        s = \"\".join(info_dct['clinvar_sig'])\n",
    "                        path_label = s.split('=')[-1].lower()\n",
    "                        if any(non_path in path_label for non_path in not_path_in_clinvar):\n",
    "                            out_file.write(rec.__str__())\n",
    "                        else:\n",
    "                            continue\n",
    "                    else:\n",
    "                        continue\n",
    "                else:\n",
    "                    out_file.write(rec.__str__())\n",
    "        else:\n",
    "            out_file.write(rec.__str__())\n",
    "\n",
    "    out_file.close()"
   ]
  },
  {
   "cell_type": "markdown",
   "metadata": {},
   "source": [
    "## Filter for AF >= 0.1"
   ]
  },
  {
   "cell_type": "code",
   "execution_count": 5,
   "metadata": {},
   "outputs": [],
   "source": [
    "%%bash\n",
    "\n",
    "lst='FRFZ FFPE_AIO_3_A1 FFPE_AIO_3_A2 FFPE_AIO_3_A3 FFPE_AIO_3_A4 FFPE_AIO_3_B1 FFPE_AIO_3_B2 FFPE_AIO_3_C1 FFPE_AIO_3_C2 FFPE_AIO_3_S FFPE_AIO_100_S'\n",
    "\n",
    "for i in $lst; do\n",
    "    \n",
    "    vcf_in_path=/Users/DanielaNachmanson/XTHS-analysis/data/vcf_AIO/FF_vs_FFPE_AIO_Intersect/${i}-ensemble.region.gmfilter.vcf\n",
    "    vcf_out_path=/Users/DanielaNachmanson/XTHS-analysis/data/vcf_AIO/FF_vs_FFPE_AIO_Intersect/${i}-ensemble.region.gmfilter.0.1.vcf\n",
    "    \n",
    "    bcftools filter -i '(QUAL>50 && INFO/DP>5) && (INFO/AF>=0.1)' $vcf_in_path > $vcf_out_path\n",
    "    bgzip -c ${vcf_out_path} > ${vcf_out_path}.gz\n",
    "    tabix -p vcf ${vcf_out_path}.gz\n",
    "done"
   ]
  },
  {
   "cell_type": "markdown",
   "metadata": {},
   "source": [
    "## Filter for quality, depth > 5 and AF >= 0.1, gzip and index each VCF file"
   ]
  },
  {
   "cell_type": "code",
   "execution_count": 6,
   "metadata": {},
   "outputs": [],
   "source": [
    "%%bash\n",
    "\n",
    "lst='FRFZ FFPE_AIO_3_A1 FFPE_AIO_3_A2 FFPE_AIO_3_A3 FFPE_AIO_3_A4 FFPE_AIO_3_B1 FFPE_AIO_3_B2 FFPE_AIO_3_C1 FFPE_AIO_3_C2 FFPE_AIO_3_S FFPE_AIO_100_S'\n",
    "\n",
    "for i in $lst; do\n",
    "    \n",
    "    vcf_in_path=/Users/DanielaNachmanson/XTHS-analysis/data/vcf_AIO/FF_vs_FFPE_AIO_Intersect/${i}-ensemble.region.gmfilter.vcf\n",
    "    vcf_out_path=/Users/DanielaNachmanson/XTHS-analysis/data/vcf_AIO/FF_vs_FFPE_AIO_Intersect/${i}-ensemble.region.gmfilter.dp_qualfilter.vcf\n",
    "    \n",
    "    bcftools filter -i '(QUAL>50 && INFO/DP>5) && (INFO/AF>=0.1)' $vcf_in_path > $vcf_out_path\n",
    "    bgzip -c ${vcf_out_path} > ${vcf_out_path}.gz\n",
    "    tabix -p vcf ${vcf_out_path}.gz\n",
    "done"
   ]
  },
  {
   "cell_type": "markdown",
   "metadata": {},
   "source": [
    "## Filter for AF >= 0.2, gzip and index each VCF file"
   ]
  },
  {
   "cell_type": "code",
   "execution_count": 7,
   "metadata": {},
   "outputs": [],
   "source": [
    "%%bash\n",
    "\n",
    "lst='FRFZ FFPE_AIO_3_A1 FFPE_AIO_3_A2 FFPE_AIO_3_A3 FFPE_AIO_3_A4 FFPE_AIO_3_B1 FFPE_AIO_3_B2 FFPE_AIO_3_C1 FFPE_AIO_3_C2 FFPE_AIO_3_S FFPE_AIO_100_S'\n",
    "\n",
    "for i in $lst; do\n",
    "    \n",
    "    vcf_in_path=/Users/DanielaNachmanson/XTHS-analysis/data/vcf_AIO/FF_vs_FFPE_AIO_Intersect/${i}-ensemble.region.gmfilter.dp_qualfilter.vcf\n",
    "    vcf_out_path=/Users/DanielaNachmanson/XTHS-analysis/data/vcf_AIO/FF_vs_FFPE_AIO_Intersect/${i}-ensemble.region.gmfilter.dp_qualfilter.0.2.vcf\n",
    "    \n",
    "    bcftools filter -i '(INFO/AF>=0.2)' $vcf_in_path > $vcf_out_path\n",
    "    bgzip -c ${vcf_out_path} > ${vcf_out_path}.gz\n",
    "    tabix -p vcf ${vcf_out_path}.gz\n",
    "done"
   ]
  }
 ],
 "metadata": {
  "kernelspec": {
   "display_name": "Python [default]",
   "language": "python",
   "name": "python3"
  },
  "language_info": {
   "codemirror_mode": {
    "name": "ipython",
    "version": 3
   },
   "file_extension": ".py",
   "mimetype": "text/x-python",
   "name": "python",
   "nbconvert_exporter": "python",
   "pygments_lexer": "ipython3",
   "version": "3.6.6"
  }
 },
 "nbformat": 4,
 "nbformat_minor": 2
}
