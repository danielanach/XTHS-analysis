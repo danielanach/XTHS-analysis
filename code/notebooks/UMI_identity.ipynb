{
 "cells": [
  {
   "cell_type": "code",
   "execution_count": 74,
   "metadata": {},
   "outputs": [],
   "source": [
    "from Bio.Seq import reverse_complement\n",
    "from Bio import SeqIO\n",
    "import gzip\n",
    "import pandas as pd\n",
    "import matplotlib.pyplot as plt\n",
    "import seaborn as sns\n",
    "import os.path"
   ]
  },
  {
   "cell_type": "code",
   "execution_count": 77,
   "metadata": {},
   "outputs": [],
   "source": [
    "indexes = ['TGGCTTCA',\n",
    "           'CTAAGGTC',\n",
    "           'CCGTGAGA',\n",
    "           'GACTAGTA',\n",
    "           'AGTGGTCA',\n",
    "           'AGATCGCA',\n",
    "           'AGCAGGAA',\n",
    "           'CATCAAGT',\n",
    "           'ATCCTGTA',\n",
    "           'AGCCATGC',\n",
    "           'GATAGACA']\n",
    "\n",
    "sample_names = {\n",
    "            \"hybr1_S1\":\"FFPE_3ng_A_2\",\n",
    "            \"hybr1_S2\":\"FFPE_3ng_A_3\",\n",
    "            \"hybr1_S4\":\"FFPE_3ng_B_2\",\n",
    "            \"hybr1_S5\":\"FFPE_3ng_C_1\",\n",
    "            \"hybr4_S9\":\"FFPE_3ng_A_4\",\n",
    "            \"hybr5_S11\":\"FFPE_3ng_C_2\",\n",
    "            \"hybr2_S6\":\"FFPE_3ng_S\",\n",
    "            \"hybr3_S7\":\"FFPE_100ng_S\"}\n",
    "#             \"hybr4_S8\":\"FFPE_3ng_A_1\",\n",
    "#             \"hybr5_S10\":\"FFPE_3ng_B_1\","
   ]
  },
  {
   "cell_type": "markdown",
   "metadata": {},
   "source": [
    "### Read in all sample UMI fastqs and write to a summary file"
   ]
  },
  {
   "cell_type": "code",
   "execution_count": 78,
   "metadata": {},
   "outputs": [
    {
     "name": "stdout",
     "output_type": "stream",
     "text": [
      "hybr5_S11\n",
      "Writing to ../data/umi/hybr5_S11.umi.txt\n",
      "hybr2_S6\n",
      "Writing to ../data/umi/hybr2_S6.umi.txt\n",
      "hybr3_S7\n",
      "Writing to ../data/umi/hybr3_S7.umi.txt\n"
     ]
    }
   ],
   "source": [
    "for sample in sample_names.keys():\n",
    "    seq_dct = {}\n",
    "    if not os.path.isfile('../data/umi/{}.umi.txt'.format(sample)): \n",
    "        print(sample)\n",
    "        with gzip.open(\"../data/umi/{}_L001_R3_001.fastq.gz\".format(sample), \"rt\") as handle:\n",
    "            for record in SeqIO.parse(handle, \"fastq\"):\n",
    "                seq = str(record.seq)\n",
    "                if 'N' not in seq:\n",
    "                    if seq not in seq_dct.keys():\n",
    "                        seq_dct[seq] = 1\n",
    "                    else:\n",
    "                        seq_dct[seq] += 1\n",
    "            df = pd.DataFrame.from_dict(seq_dct,orient='index')\n",
    "            df = df.rename(columns={0:'reads'})\n",
    "            df['seq'] = df.index\n",
    "            df = df.sort_values(by='reads',ascending=False)\n",
    "            df.to_csv('../data/umi/{}.umi.txt'.format(sample),sep='\\t')\n",
    "            print('Writing to ../data/umi/{}.umi.txt'.format(sample))"
   ]
  },
  {
   "cell_type": "code",
   "execution_count": 35,
   "metadata": {
    "scrolled": true
   },
   "outputs": [
    {
     "data": {
      "text/plain": [
       "<BarContainer object of 1001 artists>"
      ]
     },
     "execution_count": 35,
     "metadata": {},
     "output_type": "execute_result"
    },
    {
     "data": {
      "image/png": "[encoded data removed]",
      "text/plain": [
       "<Figure size 432x288 with 1 Axes>"
      ]
     },
     "metadata": {
      "needs_background": "light"
     },
     "output_type": "display_data"
    }
   ],
   "source": [
    "df_short=df.iloc[:1001]\n",
    "plt.bar(df_short['seq'],df_short['reads'])"
   ]
  },
  {
   "cell_type": "code",
   "execution_count": 56,
   "metadata": {},
   "outputs": [
    {
     "name": "stdout",
     "output_type": "stream",
     "text": [
      "TGGCTTCA\n",
      "CTAAGGTC\n",
      "CCGTGAGA\n",
      "GACTAGTA\n",
      "AGTGGTCA\n",
      "AGATCGCA\n",
      "AGCAGGAA\n",
      "CATCAAGT\n",
      "ATCCTGTA\n",
      "AGCCATGC\n",
      "GATAGACA\n"
     ]
    }
   ],
   "source": [
    "for i in indexes:\n",
    "        print(i)\n",
    "        try:\n",
    "            df[i]\n",
    "            print(i)\n",
    "        except:\n",
    "            try:\n",
    "                df[reverse_complement(i)]\n",
    "                print(reverse_complement(i))\n",
    "            except:\n",
    "                continue"
   ]
  }
 ],
 "metadata": {
  "kernelspec": {
   "display_name": "Python [conda env:conda]",
   "language": "python",
   "name": "conda-env-conda-py"
  },
  "language_info": {
   "codemirror_mode": {
    "name": "ipython",
    "version": 3
   },
   "file_extension": ".py",
   "mimetype": "text/x-python",
   "name": "python",
   "nbconvert_exporter": "python",
   "pygments_lexer": "ipython3",
   "version": "3.6.6"
  }
 },
 "nbformat": 4,
 "nbformat_minor": 2
}
